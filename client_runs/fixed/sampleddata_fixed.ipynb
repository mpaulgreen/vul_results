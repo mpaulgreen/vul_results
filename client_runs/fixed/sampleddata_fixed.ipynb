{
 "cells": [
  {
   "cell_type": "markdown",
   "id": "30c620c1-b818-43ed-984c-def8bbd70da5",
   "metadata": {},
   "source": [
    "#### Generate expeiment data for fixed components"
   ]
  },
  {
   "cell_type": "code",
   "execution_count": 1,
   "id": "3004f1d9-372c-4d88-828b-baaa751a6389",
   "metadata": {},
   "outputs": [],
   "source": [
    "import pandas as pd\n",
    "\n",
    "# Load the Excel sheet into a DataFrame\n",
    "df = pd.read_excel('affected_fixed.xlsx')  # Replace 'your_file.xlsx' with the actual file path\n",
    "\n",
    "# Group the data by the 'CVE' column\n",
    "grouped = df.groupby('CVE')\n",
    "\n",
    "# Initialize an empty list to store the results\n",
    "result = []\n",
    "\n",
    "# Iterate over each group and select the first two rows\n",
    "for name, group in grouped:\n",
    "    result.append(group.head(2))  # Append the first two rows of each group\n",
    "\n",
    "# Concatenate all the results into a single DataFrame\n",
    "result_df = pd.concat(result)"
   ]
  },
  {
   "cell_type": "code",
   "execution_count": 2,
   "id": "c9cc8012-89cf-499c-a419-a2a038e31b63",
   "metadata": {},
   "outputs": [],
   "source": [
    "import uuid\n",
    "\n",
    "# Add a new column 'request_id' with UUIDs for each row\n",
    "result_df['request_id'] = [str(uuid.uuid4()) for _ in range(len(result_df))]\n",
    "\n",
    "# Display the updated DataFrame\n",
    "experiment_data = result_df.head(50)"
   ]
  },
  {
   "cell_type": "code",
   "execution_count": 3,
   "id": "81481ae5-cc04-47c7-80b9-9fb0c63c4ae8",
   "metadata": {},
   "outputs": [],
   "source": [
    "num_rows = len(experiment_data)"
   ]
  },
  {
   "cell_type": "code",
   "execution_count": 4,
   "id": "f399c204-542a-41bb-aea8-6a3e21a0f88d",
   "metadata": {},
   "outputs": [
    {
     "data": {
      "text/plain": [
       "50"
      ]
     },
     "execution_count": 4,
     "metadata": {},
     "output_type": "execute_result"
    }
   ],
   "source": [
    "num_rows"
   ]
  },
  {
   "cell_type": "code",
   "execution_count": 5,
   "id": "276c36af-2175-4968-8438-ad4f5449fb2c",
   "metadata": {},
   "outputs": [],
   "source": [
    "experiment_data.to_excel(\"experiment_data_fixed.xlsx\", index=False)"
   ]
  },
  {
   "cell_type": "code",
   "execution_count": null,
   "id": "82174170-2aa4-45ed-902b-75b7307fba73",
   "metadata": {},
   "outputs": [],
   "source": []
  }
 ],
 "metadata": {
  "kernelspec": {
   "display_name": "Python 3 (ipykernel)",
   "language": "python",
   "name": "python3"
  },
  "language_info": {
   "codemirror_mode": {
    "name": "ipython",
    "version": 3
   },
   "file_extension": ".py",
   "mimetype": "text/x-python",
   "name": "python",
   "nbconvert_exporter": "python",
   "pygments_lexer": "ipython3",
   "version": "3.12.8"
  }
 },
 "nbformat": 4,
 "nbformat_minor": 5
}
