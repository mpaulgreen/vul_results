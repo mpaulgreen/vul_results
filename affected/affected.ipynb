{
 "cells": [
  {
   "cell_type": "markdown",
   "id": "a78d2607-38d7-4251-8600-3d7e06a2cbdc",
   "metadata": {},
   "source": [
    "# This notebook has been archived now"
   ]
  },
  {
   "cell_type": "code",
   "execution_count": 1,
   "id": "057ab2ee-193b-43cf-9536-a0a18795039a",
   "metadata": {},
   "outputs": [],
   "source": [
    "import sys\n",
    "import requests\n",
    "from datetime import datetime, timedelta"
   ]
  },
  {
   "cell_type": "code",
   "execution_count": 2,
   "id": "38f34924-09eb-4ecf-82be-fd953ee16e6f",
   "metadata": {},
   "outputs": [],
   "source": [
    "API_HOST = 'https://access.redhat.com/hydra/rest/securitydata'"
   ]
  },
  {
   "cell_type": "code",
   "execution_count": 3,
   "id": "157d7151-b3e5-40a9-a5fc-14278089433d",
   "metadata": {},
   "outputs": [],
   "source": [
    "endpoint = '/cve.json'\n",
    "params = 'per_page=1000,page=10'"
   ]
  },
  {
   "cell_type": "code",
   "execution_count": 4,
   "id": "209a47ad-196a-48b4-82d4-444203b4ea1e",
   "metadata": {},
   "outputs": [],
   "source": [
    "full_query = API_HOST + endpoint + '?' + params"
   ]
  },
  {
   "cell_type": "code",
   "execution_count": 5,
   "id": "ecb6ec59-532e-47d9-9cac-2a44345a78fc",
   "metadata": {},
   "outputs": [],
   "source": [
    "r = requests.get(full_query)"
   ]
  },
  {
   "cell_type": "code",
   "execution_count": 6,
   "id": "75ec1d79-b071-4fdb-8608-154eef88d769",
   "metadata": {},
   "outputs": [
    {
     "data": {
      "text/plain": [
       "200"
      ]
     },
     "execution_count": 6,
     "metadata": {},
     "output_type": "execute_result"
    }
   ],
   "source": [
    "r.status_code"
   ]
  },
  {
   "cell_type": "code",
   "execution_count": 7,
   "id": "99755714-5f86-4035-80d8-a4ba103414ee",
   "metadata": {},
   "outputs": [],
   "source": [
    "cves = r.json()"
   ]
  },
  {
   "cell_type": "code",
   "execution_count": 8,
   "id": "6e5c1fd5-7420-43e8-987f-f51bac428165",
   "metadata": {},
   "outputs": [
    {
     "data": {
      "text/plain": [
       "1000"
      ]
     },
     "execution_count": 8,
     "metadata": {},
     "output_type": "execute_result"
    }
   ],
   "source": [
    "len(cves)"
   ]
  },
  {
   "cell_type": "code",
   "execution_count": 9,
   "id": "a316bddd-ab78-4986-a8f1-ea652f2dfecc",
   "metadata": {},
   "outputs": [],
   "source": [
    "cve_resources=[]\n",
    "for cve in cves:\n",
    "    cve_resources.append(cve['resource_url'])"
   ]
  },
  {
   "cell_type": "code",
   "execution_count": 10,
   "id": "e556290e-f766-44fe-9c60-a14f44cb783c",
   "metadata": {},
   "outputs": [
    {
     "data": {
      "text/plain": [
       "1000"
      ]
     },
     "execution_count": 10,
     "metadata": {},
     "output_type": "execute_result"
    }
   ],
   "source": [
    "len(cve_resources)"
   ]
  },
  {
   "cell_type": "code",
   "execution_count": 11,
   "id": "15736346-c715-4828-8b0a-abf413749152",
   "metadata": {},
   "outputs": [],
   "source": [
    "from pandas import DataFrame\n",
    "cve_names = []\n",
    "package_names = []\n",
    "fix_states = []"
   ]
  },
  {
   "cell_type": "code",
   "execution_count": 12,
   "id": "c68ff140-4faa-44f2-8466-877d573afb60",
   "metadata": {},
   "outputs": [],
   "source": [
    "PYXIS_URL=\"https://catalog.redhat.com/api/containers/v1\""
   ]
  },
  {
   "cell_type": "code",
   "execution_count": 13,
   "id": "20ac14cb-b73d-4694-9b94-c8b52e1b2e9d",
   "metadata": {},
   "outputs": [],
   "source": [
    "image_tags = []\n",
    "grades = []"
   ]
  },
  {
   "cell_type": "code",
   "execution_count": 14,
   "id": "6b25db24-d88f-43a2-b052-474795929dc7",
   "metadata": {},
   "outputs": [],
   "source": [
    "for cve_resource in cve_resources:\n",
    "    cve_response = requests.get(cve_resource)\n",
    "    security_data = cve_response.json()\n",
    "    if 'package_state' in security_data:\n",
    "        for package in security_data['package_state']:\n",
    "            if (package['fix_state'] == 'Affected' and (\"openshift\" in package['package_name']) ):\n",
    "                endpoint = PYXIS_URL+\"/repositories/registry/registry.access.redhat.com/repository/\"+package['package_name']+\"/images?page_size=100\"\n",
    "                r = requests.get(endpoint)\n",
    "                image_data = r.json()\n",
    "                if len(image_data['data']) == 0:\n",
    "                    continue                \n",
    "                for data in image_data['data']:\n",
    "                    if 'freshness_grades' not in data:\n",
    "                        continue\n",
    "                    for grade in data['freshness_grades']:\n",
    "                        if (\"C\" in grade['grade'] or  \"D\" in grade['grade'] or \"E\" in grade['grade'] or \"F\" in grade['grade']):\n",
    "                            cve_names.append(security_data['name'])\n",
    "                            package_names.append(package['package_name'])\n",
    "                            fix_states.append(package['fix_state'])                                \n",
    "                            image_tags.append(data['image_id'])\n",
    "                            grades.append(grade['grade'])                                \n",
    "                            break\n",
    "                        else:\n",
    "                            continue\n",
    "                    break\n",
    "                        \n"
   ]
  },
  {
   "cell_type": "code",
   "execution_count": 15,
   "id": "6e699617-1944-4f19-8b3b-6245d6f8cb70",
   "metadata": {},
   "outputs": [
    {
     "data": {
      "text/plain": [
       "(185, 185, 185, 185, 185)"
      ]
     },
     "execution_count": 15,
     "metadata": {},
     "output_type": "execute_result"
    }
   ],
   "source": [
    "len(cve_names) , len(package_names) , len(fix_states) , len(grades), len(image_tags)"
   ]
  },
  {
   "cell_type": "code",
   "execution_count": 16,
   "id": "e930f958-8285-4377-866e-89a754983989",
   "metadata": {},
   "outputs": [],
   "source": [
    "# !pip install openpyxl"
   ]
  },
  {
   "cell_type": "code",
   "execution_count": 17,
   "id": "6e4248f2-112d-4e6a-9def-306770ac9f41",
   "metadata": {},
   "outputs": [],
   "source": [
    "# security_data['name']+','+package['package_name']+ ','+package['fix_state'] + \"\\n\"\n",
    "df = DataFrame({'CVE': cve_names, 'package': package_names, 'Fix State': fix_states, 'tag': image_tags, 'grade': grades})\n",
    "df.to_excel('openshift_component_with_tag.xlsx', sheet_name='sheet1', index=False)"
   ]
  },
  {
   "cell_type": "code",
   "execution_count": null,
   "id": "26d98172-a2de-40f7-a26c-95fdd094ca18",
   "metadata": {},
   "outputs": [],
   "source": []
  }
 ],
 "metadata": {
  "kernelspec": {
   "display_name": "Python 3 (ipykernel)",
   "language": "python",
   "name": "python3"
  },
  "language_info": {
   "codemirror_mode": {
    "name": "ipython",
    "version": 3
   },
   "file_extension": ".py",
   "mimetype": "text/x-python",
   "name": "python",
   "nbconvert_exporter": "python",
   "pygments_lexer": "ipython3",
   "version": "3.12.8"
  }
 },
 "nbformat": 4,
 "nbformat_minor": 5
}
